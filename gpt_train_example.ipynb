{
  "cells": [
    {
      "cell_type": "code",
      "execution_count": 4,
      "metadata": {
        "id": "UG77Iy4zvQds"
      },
      "outputs": [],
      "source": [
        "import torch\n",
        "from gpt import GPTLanguageModel"
      ]
    },
    {
      "cell_type": "code",
      "execution_count": 5,
      "metadata": {
        "colab": {
          "base_uri": "https://localhost:8080/"
        },
        "id": "r19j7PyxzjRD",
        "outputId": "8ae3b7f8-b94c-47a1-b47a-a465daa1206e"
      },
      "outputs": [
        {
          "data": {
            "text/plain": [
              "'cpu'"
            ]
          },
          "execution_count": 5,
          "metadata": {},
          "output_type": "execute_result"
        }
      ],
      "source": [
        "batch_size = 32\n",
        "block_size = 4\n",
        "max_iters = 6000\n",
        "eval_interval = 500\n",
        "learning_rate = 3e-4\n",
        "device = 'cuda' if torch.cuda.is_available() else 'cpu'\n",
        "eval_iters = 200\n",
        "n_embd = 768\n",
        "n_head = 6\n",
        "n_layer = 6\n",
        "dropout = 0.2\n",
        "\n",
        "torch.manual_seed(1337)\n",
        "device"
      ]
    },
    {
      "cell_type": "code",
      "execution_count": 6,
      "metadata": {
        "colab": {
          "base_uri": "https://localhost:8080/",
          "height": 332
        },
        "id": "2hZEa54gzpaf",
        "outputId": "c094d169-5cad-4536-efcf-5c92e8596fb6"
      },
      "outputs": [],
      "source": [
        "with open('data/big_input.txt', 'r', encoding='utf-8') as f:\n",
        "    text = f.read()\n",
        "\n",
        "chars = sorted(list(set(text)))\n",
        "vocab_size = len(chars)\n",
        "stoi = { ch:i for i,ch in enumerate(chars) }\n",
        "itos = { i:ch for i,ch in enumerate(chars) }\n",
        "encode = lambda s: [stoi[c] for c in s]\n",
        "decode = lambda l: ''.join([itos[i] for i in l])\n"
      ]
    },
    {
      "cell_type": "code",
      "execution_count": 7,
      "metadata": {
        "id": "HIhreXFwzvDw"
      },
      "outputs": [],
      "source": [
        "data = torch.tensor(encode(text), dtype=torch.long)\n",
        "n = int(0.9 * len(data))\n",
        "train_data = data[:n]\n",
        "val_data = data[n:]\n",
        "\n",
        "def get_batch(split):\n",
        "    data = train_data if split == 'train' else val_data\n",
        "    ix = torch.randint(len(data) - block_size, (batch_size,))\n",
        "    x = torch.stack([data[i:i+block_size] for i in ix])\n",
        "    y = torch.stack([data[i+1:i+block_size+1] for i in ix])\n",
        "    x, y = x.to(device), y.to(device)\n",
        "    return x, y"
      ]
    },
    {
      "cell_type": "code",
      "execution_count": 8,
      "metadata": {
        "id": "_J1208XQzxqQ"
      },
      "outputs": [],
      "source": [
        "@torch.no_grad()\n",
        "def estimate_loss():\n",
        "    out = {}\n",
        "    model.eval()\n",
        "    for split in ['train', 'val']:\n",
        "        losses = torch.zeros(eval_iters)\n",
        "        for k in range(eval_iters):\n",
        "            X, Y = get_batch(split)\n",
        "            logits, loss = model(X, Y)\n",
        "            losses[k] = loss.item()\n",
        "        out[split] = losses.mean()\n",
        "    model.train()\n",
        "    return out"
      ]
    },
    {
      "cell_type": "code",
      "execution_count": 9,
      "metadata": {
        "colab": {
          "base_uri": "https://localhost:8080/"
        },
        "id": "k7wE3_FD0Coy",
        "outputId": "a29b7094-da7f-4a19-f0b4-3b5307bf705c"
      },
      "outputs": [
        {
          "name": "stdout",
          "output_type": "stream",
          "text": [
            "42.740884 M parameters\n"
          ]
        }
      ],
      "source": [
        "model = GPTLanguageModel(vocab_size=vocab_size)\n",
        "m = model.to(device)\n",
        "print(sum(p.numel() for p in m.parameters())/1e6, 'M parameters')"
      ]
    },
    {
      "cell_type": "code",
      "execution_count": null,
      "metadata": {
        "colab": {
          "background_save": true,
          "base_uri": "https://localhost:8080/"
        },
        "id": "NxB-pom00Fdk",
        "outputId": "65a6aef4-8070-467b-aff5-06a8b815994a"
      },
      "outputs": [],
      "source": [
        "optimizer = torch.optim.AdamW(model.parameters(), lr=learning_rate)\n",
        "\n",
        "for iter in range(max_iters):\n",
        "\n",
        "    if iter % eval_interval == 0 or iter == max_iters - 1:\n",
        "        losses = estimate_loss()\n",
        "        print(f\"step {iter}: train loss {losses['train']:.4f}, val loss {losses['val']:.4f}\")\n",
        "\n",
        "    xb, yb = get_batch('train')\n",
        "\n",
        "    logits, loss = model(xb, yb)\n",
        "    optimizer.zero_grad(set_to_none=True)\n",
        "    loss.backward()\n",
        "    optimizer.step()"
      ]
    },
    {
      "cell_type": "code",
      "execution_count": 156,
      "metadata": {
        "colab": {
          "background_save": true
        },
        "id": "I6brfGxe0KVY"
      },
      "outputs": [
        {
          "name": "stdout",
          "output_type": "stream",
          "text": [
            "\t– А охочешь, птешение лестные и моейщей предания, был душлив и казалось даже заметить, что он не был в своенное вцарило учасов и не опять в Желтый дом Вре-ей.\n",
            "\n",
            "– Федор не я скажу.\n",
            "\n",
            "– Да о Николай Петрович не отроду прос?\n",
            "\n",
            "– Как ничего не отступается. Он состал на дворе только в Герасимоваригрорам не мог как не рассуждать от него самого: именно послала другу темноту… Целых города, да такая надела над мне небольшая тревка, слегка отбила его винов.\n",
            "\n",
            "– Он не уговорил, но и не вылказал и со всеми сво\n"
          ]
        }
      ],
      "source": [
        "# generate from the model\n",
        "context = torch.zeros((1, 1), dtype=torch.long, device=device)\n",
        "print(decode(m.generate(context, max_new_tokens=500)[0].tolist()))"
      ]
    },
    {
      "cell_type": "markdown",
      "metadata": {},
      "source": [
        "# Сложение"
      ]
    },
    {
      "cell_type": "code",
      "execution_count": 69,
      "metadata": {},
      "outputs": [],
      "source": [
        "stoi = {str(i): i for i in range(10)}\n",
        "stoi['+'] = 11\n",
        "stoi['-'] = 12\n",
        "stoi['='] = 13\n",
        "stoi['-1'] = -99\n",
        "\n",
        "itos = {v: k for k, v in stoi.items()}\n",
        "\n",
        "encode = lambda s: [stoi[c] for c in s]\n",
        "decode = lambda l: ''.join([itos[i] for i in l])\n",
        "\n",
        "vocab_size = len(itos)\n",
        "\n",
        "device = 'cpu' # в какой-то момент были траблы с гпу, но тут и на цпу норм"
      ]
    },
    {
      "cell_type": "code",
      "execution_count": 70,
      "metadata": {},
      "outputs": [],
      "source": [
        "import random\n",
        "def make_samples(n=batch_size):\n",
        "    x_samples = []\n",
        "    y_samples = []\n",
        "    for i in range(n):\n",
        "        a = random.randint(0, 9)\n",
        "        b = random.randint(0, 9)\n",
        "        c = a + b\n",
        "        input_seq = str(a) + '+' + str(b) + \"=\"\n",
        "        x = encode(input_seq)\n",
        "        y = [-1] * (len(input_seq) - len(str(c))) + encode([d for d in str(c)][::-1]) # Reverse the digits of c\n",
        "        x_samples.append(torch.tensor(x))\n",
        "        y_samples.append(torch.tensor(y))\n",
        "    return x_samples, y_samples"
      ]
    },
    {
      "cell_type": "code",
      "execution_count": 71,
      "metadata": {},
      "outputs": [],
      "source": [
        "def get_batch_num():\n",
        "    x, y = make_samples()\n",
        "    x = torch.stack(x)\n",
        "    y = torch.stack(y)\n",
        "    x, y = x.to(device), y.to(device)\n",
        "    return x, y"
      ]
    },
    {
      "cell_type": "code",
      "execution_count": 72,
      "metadata": {},
      "outputs": [],
      "source": [
        "@torch.no_grad()\n",
        "def estimate_loss_num():\n",
        "    out = {}\n",
        "    model.eval()\n",
        "    for split in ['train', 'val']:\n",
        "        losses = torch.zeros(eval_iters)\n",
        "        for k in range(eval_iters):\n",
        "            X, Y = get_batch_num()\n",
        "            logits, loss = model(X, Y)\n",
        "            losses[k] = loss.item()\n",
        "        out[split] = losses.mean()\n",
        "    model.train()\n",
        "    return out"
      ]
    },
    {
      "cell_type": "code",
      "execution_count": 73,
      "metadata": {},
      "outputs": [
        {
          "name": "stdout",
          "output_type": "stream",
          "text": [
            "42.534926 M parameters\n"
          ]
        }
      ],
      "source": [
        "model = GPTLanguageModel(vocab_size=vocab_size)\n",
        "m = model.to(device)\n",
        "print(sum(p.numel() for p in m.parameters())/1e6, 'M parameters')"
      ]
    },
    {
      "cell_type": "code",
      "execution_count": 87,
      "metadata": {},
      "outputs": [
        {
          "name": "stdout",
          "output_type": "stream",
          "text": [
            "step 0: train loss 0.0101, val loss 0.0104\n",
            "step 499: train loss 0.0034, val loss 0.0035\n"
          ]
        }
      ],
      "source": [
        "max_iters = 500\n",
        "\n",
        "optimizer = torch.optim.AdamW(model.parameters(), lr=learning_rate)\n",
        "\n",
        "for iter in range(max_iters):\n",
        "\n",
        "    if iter % eval_interval == 0 or iter == max_iters - 1:\n",
        "        losses = estimate_loss_num()\n",
        "        print(f\"step {iter}: train loss {losses['train']:.4f}, val loss {losses['val']:.4f}\")\n",
        "\n",
        "    xb, yb = get_batch_num()\n",
        "\n",
        "    logits, loss = model(xb, yb)\n",
        "    optimizer.zero_grad(set_to_none=True)\n",
        "    loss.backward()\n",
        "    optimizer.step()"
      ]
    },
    {
      "cell_type": "markdown",
      "metadata": {},
      "source": [
        "Тут еще есть интересная проблема, что нужно было учить модель еще генерить что-то по типу <EOS>, потому что ответ может быть маленьким, а max_new_tokens заставляет генерировать дальше\n",
        "\n",
        "К сожалению не успеваю сделать до дедлайна, поэтому если можно то могу попробовать решить эту проблему + задание 5 после дедлайна"
      ]
    },
    {
      "cell_type": "code",
      "execution_count": 102,
      "metadata": {},
      "outputs": [
        {
          "name": "stdout",
          "output_type": "stream",
          "text": [
            "1+3=4\n"
          ]
        }
      ],
      "source": [
        "example = '1+3='\n",
        "context = torch.tensor([encode(example)])\n",
        "print(decode(m.generate(context, max_new_tokens=1)[0].tolist()))"
      ]
    },
    {
      "cell_type": "code",
      "execution_count": 109,
      "metadata": {},
      "outputs": [
        {
          "name": "stdout",
          "output_type": "stream",
          "text": [
            "5+5=10\n"
          ]
        }
      ],
      "source": [
        "example = '5+5='\n",
        "context = torch.tensor([encode(example)])\n",
        "print(decode(m.generate(context, max_new_tokens=2)[0].tolist()))"
      ]
    }
  ],
  "metadata": {
    "accelerator": "GPU",
    "colab": {
      "gpuType": "T4",
      "provenance": []
    },
    "kernelspec": {
      "display_name": "Python 3",
      "name": "python3"
    },
    "language_info": {
      "codemirror_mode": {
        "name": "ipython",
        "version": 3
      },
      "file_extension": ".py",
      "mimetype": "text/x-python",
      "name": "python",
      "nbconvert_exporter": "python",
      "pygments_lexer": "ipython3",
      "version": "3.9.6"
    }
  },
  "nbformat": 4,
  "nbformat_minor": 0
}
